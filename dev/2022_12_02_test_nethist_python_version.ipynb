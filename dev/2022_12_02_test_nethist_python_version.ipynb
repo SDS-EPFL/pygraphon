{
 "cells": [
  {
   "cell_type": "code",
   "execution_count": 1,
   "metadata": {},
   "outputs": [],
   "source": [
    "%load_ext autoreload\n",
    "%autoreload 2"
   ]
  },
  {
   "cell_type": "code",
   "execution_count": 2,
   "metadata": {},
   "outputs": [],
   "source": [
    "from pygraphon.matlab_functions.nethist import *"
   ]
  },
  {
   "cell_type": "code",
   "execution_count": 3,
   "metadata": {},
   "outputs": [],
   "source": [
    "from pygraphon.utils.utils_maltab import getMatlabPaths, setupMatlabEngine, npArray2Matlab\n",
    "import matlab.engine\n",
    "engine = matlab.engine.start_matlab()\n",
    "engine = setupMatlabEngine(engine, getMatlabPaths())"
   ]
  },
  {
   "cell_type": "code",
   "execution_count": 4,
   "metadata": {},
   "outputs": [],
   "source": [
    "import numpy.random as rnd\n",
    "import numpy as np"
   ]
  },
  {
   "cell_type": "code",
   "execution_count": 5,
   "metadata": {},
   "outputs": [
    {
     "data": {
      "text/plain": [
       "array([1, 1, 1])"
      ]
     },
     "execution_count": 5,
     "metadata": {},
     "output_type": "execute_result"
    }
   ],
   "source": [
    "np.array(rnd.uniform(size = 3)>2/3 , dtype = int) + np.ones(3, dtype= int)"
   ]
  },
  {
   "cell_type": "code",
   "execution_count": 6,
   "metadata": {},
   "outputs": [
    {
     "data": {
      "text/plain": [
       "array([[0],\n",
       "       [0],\n",
       "       [1]])"
      ]
     },
     "execution_count": 6,
     "metadata": {},
     "output_type": "execute_result"
    }
   ],
   "source": [
    "test = rnd.uniform(size = (3,1)) > 2/3\n",
    "1*test "
   ]
  },
  {
   "cell_type": "code",
   "execution_count": 7,
   "metadata": {},
   "outputs": [],
   "source": [
    "import numpy as np\n",
    "import matplotlib.pyplot as plt"
   ]
  },
  {
   "cell_type": "code",
   "execution_count": 8,
   "metadata": {},
   "outputs": [],
   "source": [
    "from pygraphon.graphons.StepGraphon import StepGraphon\n",
    "from pygraphon.plots.plots_graphon import plot as plot_graphon"
   ]
  },
  {
   "cell_type": "code",
   "execution_count": 9,
   "metadata": {},
   "outputs": [
    {
     "data": {
      "image/png": "[encoded data removed]",
      "text/plain": [
       "<Figure size 432x360 with 2 Axes>"
      ]
     },
     "metadata": {
      "needs_background": "light"
     },
     "output_type": "display_data"
    }
   ],
   "source": [
    "theta = np.array([[0.7, 0.1,0.1] ,[0.1, 0.7,0.1],[0.1,0.1,0.7]])\n",
    "graphon = StepGraphon(theta, 1/3)\n",
    "plot_graphon(graphon)\n",
    "plt.show()"
   ]
  },
  {
   "cell_type": "code",
   "execution_count": 10,
   "metadata": {},
   "outputs": [],
   "source": [
    "n = 30\n",
    "A = graphon.draw(0.2,n, exchangeable= False)\n",
    "argh = n*1/3"
   ]
  },
  {
   "cell_type": "code",
   "execution_count": 11,
   "metadata": {},
   "outputs": [
    {
     "data": {
      "text/plain": [
       "array([[2.33333333, 0.33333333, 0.33333333],\n",
       "       [0.33333333, 2.33333333, 0.33333333],\n",
       "       [0.33333333, 0.33333333, 2.33333333]])"
      ]
     },
     "execution_count": 11,
     "metadata": {},
     "output_type": "execute_result"
    }
   ],
   "source": [
    "graphon.graphon"
   ]
  },
  {
   "cell_type": "code",
   "execution_count": 12,
   "metadata": {},
   "outputs": [
    {
     "data": {
      "text/plain": [
       "(<Figure size 360x360 with 1 Axes>, <AxesSubplot:>)"
      ]
     },
     "execution_count": 12,
     "metadata": {},
     "output_type": "execute_result"
    },
    {
     "data": {
      "image/png": "[encoded data removed]",
      "text/plain": [
       "<Figure size 360x360 with 1 Axes>"
      ]
     },
     "metadata": {
      "needs_background": "light"
     },
     "output_type": "display_data"
    }
   ],
   "source": [
    "from pygraphon.plots.plot_matrices import spy\n",
    "spy(A)"
   ]
  },
  {
   "cell_type": "code",
   "execution_count": 88,
   "metadata": {},
   "outputs": [
    {
     "name": "stdout",
     "output_type": "stream",
     "text": [
      "\n",
      "u =\n",
      "\n",
      "   -0.2363\n",
      "   -0.2884\n",
      "   -0.1748\n",
      "   -0.2017\n",
      "   -0.1979\n",
      "   -0.2396\n",
      "   -0.2724\n",
      "   -0.1814\n",
      "   -0.1549\n",
      "   -0.0890\n",
      "    0.0334\n",
      "    0.0066\n",
      "   -0.0197\n",
      "   -0.0205\n",
      "   -0.1194\n",
      "    0.0406\n",
      "   -0.0340\n",
      "   -0.0272\n",
      "    0.0748\n",
      "   -0.0346\n",
      "    0.3062\n",
      "    0.1709\n",
      "    0.2016\n",
      "    0.1041\n",
      "    0.1968\n",
      "    0.2246\n",
      "    0.2502\n",
      "    0.0661\n",
      "    0.3272\n",
      "    0.2999\n",
      "\n",
      "\n",
      "ind =\n",
      "\n",
      "    29\n",
      "    21\n",
      "    30\n",
      "    27\n",
      "    26\n",
      "    23\n",
      "    25\n",
      "    22\n",
      "    24\n",
      "    19\n",
      "    28\n",
      "    16\n",
      "    11\n",
      "    12\n",
      "    13\n",
      "    14\n",
      "    18\n",
      "    17\n",
      "    20\n",
      "    10\n",
      "    15\n",
      "     9\n",
      "     3\n",
      "     8\n",
      "     5\n",
      "     4\n",
      "     1\n",
      "     6\n",
      "     7\n",
      "     2\n",
      "\n",
      "\n",
      "ans =\n",
      "\n",
      "    23\n",
      "    12\n",
      "    10\n",
      "     3\n",
      "    12\n",
      "    23\n",
      "\n",
      "\n",
      "ans =\n",
      "\n",
      "    45\n",
      "   100\n",
      "    45\n",
      "   100\n",
      "   100\n",
      "    45\n",
      "\n",
      "\n",
      "initialLL =\n",
      "\n",
      "   -0.3978\n",
      "\n",
      "[3. 3. 3. 3. 3. 3. 3. 3. 3. 3. 2. 2. 2. 2. 2. 2. 2. 2. 2. 2. 1. 1. 1. 1.\n",
      " 1. 1. 1. 1. 1. 1.]\n"
     ]
    }
   ],
   "source": [
    "result = engine.nethist(npArray2Matlab(A), float(int(argh)), nargout=2)\n",
    "print(np.asarray([x[0] for x in result[0]]))"
   ]
  },
  {
   "cell_type": "code",
   "execution_count": 19,
   "metadata": {},
   "outputs": [
    {
     "data": {
      "text/plain": [
       "10.0"
      ]
     },
     "execution_count": 19,
     "metadata": {},
     "output_type": "execute_result"
    }
   ],
   "source": [
    "argh"
   ]
  },
  {
   "cell_type": "code",
   "execution_count": 80,
   "metadata": {},
   "outputs": [
    {
     "name": "stdout",
     "output_type": "stream",
     "text": [
      "h:  5.307246803688621\n",
      "estMSqrd:  3.174149807746925\n"
     ]
    }
   ],
   "source": [
    "h, estMSqrd = oracbwplugin(A,np.sqrt(A.shape[0])/8,'degs',1)\n",
    "print(\"h: \",h)\n",
    "print(\"estMSqrd: \",estMSqrd)"
   ]
  },
  {
   "cell_type": "code",
   "execution_count": 76,
   "metadata": {},
   "outputs": [
    {
     "data": {
      "text/plain": [
       "10.0"
      ]
     },
     "execution_count": 76,
     "metadata": {},
     "output_type": "execute_result"
    }
   ],
   "source": [
    "argh"
   ]
  },
  {
   "cell_type": "code",
   "execution_count": 91,
   "metadata": {},
   "outputs": [
    {
     "name": "stdout",
     "output_type": "stream",
     "text": [
      "[-0.23913216 -0.29936293 -0.16241701 -0.18072718 -0.17241017 -0.22558536\n",
      " -0.27409838 -0.18548891 -0.14388556 -0.07436287  0.02029799 -0.0041752\n",
      " -0.02917451 -0.01190973 -0.15290248  0.0420507  -0.05527697 -0.02560265\n",
      "  0.05596068 -0.02266903  0.35237015  0.15000188  0.22230153  0.09138403\n",
      "  0.1600519   0.22695174  0.23691449  0.07550931  0.34114334  0.28996514]\n",
      "[2. 2. 2. 2. 2. 2. 2. 2. 2. 1. 1. 1. 1. 1. 2. 1. 1. 1. 1. 1. 0. 0. 0. 0.\n",
      " 0. 0. 0. 0. 0. 0.]\n"
     ]
    }
   ],
   "source": [
    "nethist(A, h = argh)[0]"
   ]
  }
 ],
 "metadata": {
  "interpreter": {
   "hash": "dcb222b0e3c0011935c8e1dec940deade2e296babd9e0b8fd5d2e8a39c20158c"
  },
  "kernelspec": {
   "display_name": "Python 3.8.5 64-bit ('env': venv)",
   "language": "python",
   "name": "python3"
  },
  "language_info": {
   "codemirror_mode": {
    "name": "ipython",
    "version": 3
   },
   "file_extension": ".py",
   "mimetype": "text/x-python",
   "name": "python",
   "nbconvert_exporter": "python",
   "pygments_lexer": "ipython3",
   "version": "3.8.5"
  },
  "orig_nbformat": 4
 },
 "nbformat": 4,
 "nbformat_minor": 2
}
