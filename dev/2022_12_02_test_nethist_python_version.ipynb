{
 "cells": [
  {
   "cell_type": "code",
   "execution_count": 18,
   "metadata": {},
   "outputs": [
    {
     "name": "stdout",
     "output_type": "stream",
     "text": [
      "The autoreload extension is already loaded. To reload it, use:\n",
      "  %reload_ext autoreload\n"
     ]
    }
   ],
   "source": [
    "%load_ext autoreload\n",
    "%autoreload 2"
   ]
  },
  {
   "cell_type": "code",
   "execution_count": 19,
   "metadata": {},
   "outputs": [],
   "source": [
    "from pygraphon.matlab_functions.nethist import *"
   ]
  },
  {
   "cell_type": "code",
   "execution_count": 20,
   "metadata": {},
   "outputs": [],
   "source": [
    "from pygraphon.utils.utils_maltab import getMatlabPaths, setupMatlabEngine, npArray2Matlab\n",
    "import matlab.engine\n",
    "engine = matlab.engine.start_matlab()\n",
    "engine = setupMatlabEngine(engine, getMatlabPaths())"
   ]
  },
  {
   "cell_type": "code",
   "execution_count": 21,
   "metadata": {},
   "outputs": [],
   "source": [
    "import numpy.random as rnd\n",
    "import numpy as np"
   ]
  },
  {
   "cell_type": "code",
   "execution_count": 22,
   "metadata": {},
   "outputs": [
    {
     "data": {
      "text/plain": [
       "array([1, 1, 1])"
      ]
     },
     "execution_count": 22,
     "metadata": {},
     "output_type": "execute_result"
    }
   ],
   "source": [
    "np.array(rnd.uniform(size = 3)>2/3 , dtype = int) + np.ones(3, dtype= int)"
   ]
  },
  {
   "cell_type": "code",
   "execution_count": 23,
   "metadata": {},
   "outputs": [
    {
     "data": {
      "text/plain": [
       "array([[0],\n",
       "       [1],\n",
       "       [0]])"
      ]
     },
     "execution_count": 23,
     "metadata": {},
     "output_type": "execute_result"
    }
   ],
   "source": [
    "test = rnd.uniform(size = (3,1)) > 2/3\n",
    "1*test "
   ]
  },
  {
   "cell_type": "code",
   "execution_count": 24,
   "metadata": {},
   "outputs": [],
   "source": [
    "import numpy as np\n",
    "import matplotlib.pyplot as plt"
   ]
  },
  {
   "cell_type": "code",
   "execution_count": 25,
   "metadata": {},
   "outputs": [],
   "source": [
    "from pygraphon.graphons.StepGraphon import StepGraphon\n",
    "from pygraphon.plots.plots_graphon import plot as plot_graphon"
   ]
  },
  {
   "cell_type": "code",
   "execution_count": 185,
   "metadata": {},
   "outputs": [
    {
     "data": {
      "image/png": "[encoded data removed]",
      "text/plain": [
       "<Figure size 432x360 with 2 Axes>"
      ]
     },
     "metadata": {
      "needs_background": "light"
     },
     "output_type": "display_data"
    }
   ],
   "source": [
    "theta = np.array([[0.7, 0.1,0.1] ,[0.1, 0.7,0.1],[0.1,0.1,0.7]])\n",
    "graphon = StepGraphon(theta, 1/3)\n",
    "plot_graphon(graphon)\n",
    "plt.show()"
   ]
  },
  {
   "cell_type": "code",
   "execution_count": 186,
   "metadata": {},
   "outputs": [],
   "source": [
    "n = 30\n",
    "A = graphon.draw(0.2,n, exchangeable= False)\n",
    "argh = n*1/3"
   ]
  },
  {
   "cell_type": "code",
   "execution_count": 187,
   "metadata": {},
   "outputs": [
    {
     "data": {
      "text/plain": [
       "array([[2.33333333, 0.33333333, 0.33333333],\n",
       "       [0.33333333, 2.33333333, 0.33333333],\n",
       "       [0.33333333, 0.33333333, 2.33333333]])"
      ]
     },
     "execution_count": 187,
     "metadata": {},
     "output_type": "execute_result"
    }
   ],
   "source": [
    "graphon.graphon"
   ]
  },
  {
   "cell_type": "code",
   "execution_count": 188,
   "metadata": {},
   "outputs": [
    {
     "data": {
      "text/plain": [
       "(<Figure size 360x360 with 1 Axes>, <AxesSubplot:>)"
      ]
     },
     "execution_count": 188,
     "metadata": {},
     "output_type": "execute_result"
    },
    {
     "data": {
      "image/png": "[encoded data removed]",
      "text/plain": [
       "<Figure size 360x360 with 1 Axes>"
      ]
     },
     "metadata": {
      "needs_background": "light"
     },
     "output_type": "display_data"
    }
   ],
   "source": [
    "from pygraphon.plots.plot_matrices import spy\n",
    "spy(A)"
   ]
  },
  {
   "cell_type": "code",
   "execution_count": 189,
   "metadata": {},
   "outputs": [
    {
     "name": "stdout",
     "output_type": "stream",
     "text": [
      "\n",
      "idxInit =\n",
      "\n",
      "     3\n",
      "     3\n",
      "     3\n",
      "     3\n",
      "     3\n",
      "     3\n",
      "     3\n",
      "     3\n",
      "     3\n",
      "     3\n",
      "     1\n",
      "     2\n",
      "     1\n",
      "     2\n",
      "     2\n",
      "     2\n",
      "     2\n",
      "     2\n",
      "     2\n",
      "     1\n",
      "     1\n",
      "     1\n",
      "     1\n",
      "     2\n",
      "     1\n",
      "     1\n",
      "     1\n",
      "     1\n",
      "     2\n",
      "     2\n",
      "\n",
      "\n",
      "ans =\n",
      "\n",
      "    15\n",
      "    26\n",
      "     8\n",
      "     4\n",
      "    14\n",
      "    26\n",
      "\n",
      "\n",
      "ans =\n",
      "\n",
      "    45\n",
      "   100\n",
      "    45\n",
      "   100\n",
      "   100\n",
      "    45\n",
      "\n",
      "\n",
      "initialLL =\n",
      "\n",
      "   -0.4481\n",
      "\n",
      "[3. 3. 3. 3. 3. 3. 3. 3. 3. 3. 1. 1. 1. 2. 2. 1. 2. 2. 2. 1. 2. 1. 2. 2.\n",
      " 1. 1. 1. 1. 2. 2.]\n"
     ]
    }
   ],
   "source": [
    "result = engine.nethist(npArray2Matlab(A), float(int(argh)), nargout=2)\n",
    "print(np.asarray([x[0] for x in result[0]]))"
   ]
  },
  {
   "cell_type": "code",
   "execution_count": 196,
   "metadata": {},
   "outputs": [
    {
     "name": "stdout",
     "output_type": "stream",
     "text": [
      "[ 8  6  7 23 22 17 28 27 25 20  2  5  9  0  1  3 29 21 18 13 19  4 16 26\n",
      " 24 12 14 15 10 11]\n",
      "[1 1 1 1 2 1 0 0 0 1 2 2 2 1 2 2 2 0 1 2 0 1 0 0 2 0 2 0 0 1]\n"
     ]
    },
    {
     "data": {
      "text/plain": [
       "array([1, 2, 2, 0, 2, 0, 0, 0, 1, 1, 1, 0, 0, 0, 0, 1, 0, 0, 1, 2, 1, 2,\n",
       "       2, 1, 2, 2, 1, 1, 2, 2])"
      ]
     },
     "execution_count": 196,
     "metadata": {},
     "output_type": "execute_result"
    }
   ],
   "source": [
    "nethist(A, h = argh)[0]"
   ]
  }
 ],
 "metadata": {
  "interpreter": {
   "hash": "dcb222b0e3c0011935c8e1dec940deade2e296babd9e0b8fd5d2e8a39c20158c"
  },
  "kernelspec": {
   "display_name": "Python 3.8.5 64-bit ('env': venv)",
   "language": "python",
   "name": "python3"
  },
  "language_info": {
   "codemirror_mode": {
    "name": "ipython",
    "version": 3
   },
   "file_extension": ".py",
   "mimetype": "text/x-python",
   "name": "python",
   "nbconvert_exporter": "python",
   "pygments_lexer": "ipython3",
   "version": "3.8.5"
  },
  "orig_nbformat": 4
 },
 "nbformat": 4,
 "nbformat_minor": 2
}
