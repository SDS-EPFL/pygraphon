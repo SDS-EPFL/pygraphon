{
 "cells": [
  {
   "cell_type": "code",
   "execution_count": 1,
   "metadata": {},
   "outputs": [],
   "source": [
    "%load_ext autoreload\n",
    "%autoreload 2"
   ]
  },
  {
   "cell_type": "code",
   "execution_count": 2,
   "metadata": {},
   "outputs": [],
   "source": [
    "from pygraphon.matlab_functions.nethist import *\n"
   ]
  },
  {
   "cell_type": "code",
   "execution_count": 3,
   "metadata": {},
   "outputs": [],
   "source": [
    "from pygraphon.utils.utils_maltab import getMatlabPaths, setupMatlabEngine, npArray2Matlab\n",
    "import matlab.engine\n",
    "\n",
    "engine = matlab.engine.start_matlab()\n",
    "engine = setupMatlabEngine(engine, getMatlabPaths())\n"
   ]
  },
  {
   "cell_type": "code",
   "execution_count": 4,
   "metadata": {},
   "outputs": [],
   "source": [
    "import numpy.random as rnd\n",
    "import numpy as np\n"
   ]
  },
  {
   "cell_type": "code",
   "execution_count": 5,
   "metadata": {},
   "outputs": [],
   "source": [
    "import numpy as np\n",
    "import matplotlib.pyplot as plt\n"
   ]
  },
  {
   "cell_type": "code",
   "execution_count": 6,
   "metadata": {},
   "outputs": [],
   "source": [
    "from pygraphon.graphons.StepGraphon import StepGraphon\n",
    "from pygraphon.plots.plots_graphon import plot as plot_graphon\n"
   ]
  },
  {
   "cell_type": "code",
   "execution_count": 7,
   "metadata": {},
   "outputs": [
    {
     "data": {
      "image/png": "[encoded data removed]",
      "text/plain": [
       "<Figure size 432x360 with 2 Axes>"
      ]
     },
     "metadata": {
      "needs_background": "light"
     },
     "output_type": "display_data"
    }
   ],
   "source": [
    "theta = np.array([[0.6, 0.2,0.3] ,[0.2, 0.7,0.1],[0.3,0.1,0.6]])\n",
    "graphon = StepGraphon(theta, 1/3)\n",
    "plot_graphon(graphon)\n",
    "plt.show()"
   ]
  },
  {
   "cell_type": "code",
   "execution_count": 8,
   "metadata": {},
   "outputs": [],
   "source": [
    "n = 99\n",
    "A = graphon.draw(0.2, n, exchangeable=False)\n",
    "argh = n * 1 / 3\n"
   ]
  },
  {
   "cell_type": "code",
   "execution_count": 9,
   "metadata": {},
   "outputs": [
    {
     "data": {
      "text/plain": [
       "array([[1.74193548, 0.58064516, 0.87096774],\n",
       "       [0.58064516, 2.03225806, 0.29032258],\n",
       "       [0.87096774, 0.29032258, 1.74193548]])"
      ]
     },
     "execution_count": 9,
     "metadata": {},
     "output_type": "execute_result"
    }
   ],
   "source": [
    "graphon.graphon\n"
   ]
  },
  {
   "cell_type": "code",
   "execution_count": 10,
   "metadata": {},
   "outputs": [
    {
     "data": {
      "text/plain": [
       "(<Figure size 360x360 with 1 Axes>, <AxesSubplot:>)"
      ]
     },
     "execution_count": 10,
     "metadata": {},
     "output_type": "execute_result"
    },
    {
     "data": {
      "image/png": "[encoded data removed]",
      "text/plain": [
       "<Figure size 360x360 with 1 Axes>"
      ]
     },
     "metadata": {
      "needs_background": "light"
     },
     "output_type": "display_data"
    }
   ],
   "source": [
    "from pygraphon.plots.plot_matrices import spy\n",
    "\n",
    "spy(A)"
   ]
  },
  {
   "cell_type": "code",
   "execution_count": 11,
   "metadata": {},
   "outputs": [
    {
     "name": "stdout",
     "output_type": "stream",
     "text": [
      "-2.1662 LL.  Iter 5 of max 500; 2 global improvements; took 0.56694 s\n",
      "-2.1662 LL.  Iter 10 of max 500; 0 global improvements; took 0.3755 s\n",
      "-2.1662 LL.  Iter 15 of max 500; 0 global improvements; took 0.36936 s\n",
      "Local optimum likely reached in random-ordered greedy likelihood search; quitting now\n",
      "[2. 2. 2. 2. 2. 2. 2. 2. 2. 2. 2. 2. 2. 2. 2. 2. 2. 2. 2. 2. 2. 2. 2. 2.\n",
      " 2. 2. 2. 2. 2. 2. 2. 2. 2. 1. 1. 1. 1. 1. 1. 1. 1. 1. 1. 1. 1. 1. 1. 1.\n",
      " 1. 1. 1. 1. 1. 1. 1. 1. 1. 1. 1. 1. 1. 1. 1. 1. 1. 1. 3. 3. 3. 3. 3. 3.\n",
      " 3. 3. 3. 3. 3. 3. 3. 3. 3. 3. 3. 3. 3. 3. 3. 3. 3. 3. 3. 3. 3. 3. 3. 3.\n",
      " 3. 3. 3.]\n"
     ]
    }
   ],
   "source": [
    "labels_matlab, h_matlab, ll_matlab = engine.nethist(npArray2Matlab(A), float(int(argh)), nargout=3)\n",
    "print(np.asarray([x[0] for x in labels_matlab]))\n"
   ]
  },
  {
   "cell_type": "code",
   "execution_count": 29,
   "metadata": {},
   "outputs": [
    {
     "data": {
      "text/plain": [
       "[<matplotlib.lines.Line2D at 0x7fb003764310>]"
      ]
     },
     "execution_count": 29,
     "metadata": {},
     "output_type": "execute_result"
    },
    {
     "data": {
      "image/png": "[encoded data removed]",
      "text/plain": [
       "<Figure size 432x288 with 1 Axes>"
      ]
     },
     "metadata": {
      "needs_background": "light"
     },
     "output_type": "display_data"
    }
   ],
   "source": [
    "plt.plot([x[0] for x in ll_matlab])"
   ]
  },
  {
   "cell_type": "code",
   "execution_count": 41,
   "metadata": {},
   "outputs": [
    {
     "name": "stdout",
     "output_type": "stream",
     "text": [
      "Initial log-likelihood: -0.4612\n",
      "Initial normalized log-likelihood: -2.1975\n"
     ]
    },
    {
     "name": "stderr",
     "output_type": "stream",
     "text": [
      "LL: -2.1679,  4 global improvements:   3%|▎         | 15/500 [00:04<02:21,  3.43it/s]"
     ]
    },
    {
     "name": "stdout",
     "output_type": "stream",
     "text": [
      "3 consecutive likelihood improvements less than specified tolerance; quitting now\n"
     ]
    },
    {
     "name": "stderr",
     "output_type": "stream",
     "text": [
      "\n"
     ]
    }
   ],
   "source": [
    "idx,h,trace = nethist(A, argh, verbose= True, trace= True)"
   ]
  },
  {
   "cell_type": "code",
   "execution_count": 42,
   "metadata": {},
   "outputs": [
    {
     "data": {
      "text/plain": [
       "array([1, 1, 1, 1, 1, 1, 1, 1, 1, 1, 1, 1, 1, 1, 1, 1, 1, 2, 1, 1, 1, 1,\n",
       "       1, 1, 1, 1, 1, 1, 1, 1, 1, 1, 1, 0, 0, 0, 0, 0, 0, 0, 0, 0, 0, 0,\n",
       "       0, 0, 0, 0, 0, 0, 0, 0, 0, 0, 0, 0, 0, 0, 0, 0, 0, 0, 0, 0, 0, 0,\n",
       "       2, 2, 2, 2, 2, 1, 2, 2, 2, 2, 2, 2, 2, 2, 2, 2, 2, 2, 2, 2, 2, 2,\n",
       "       2, 2, 2, 2, 2, 2, 2, 2, 2, 2, 2])"
      ]
     },
     "execution_count": 42,
     "metadata": {},
     "output_type": "execute_result"
    }
   ],
   "source": [
    "idx"
   ]
  },
  {
   "cell_type": "code",
   "execution_count": 43,
   "metadata": {},
   "outputs": [
    {
     "data": {
      "image/png": "[encoded data removed]",
      "text/plain": [
       "<Figure size 432x288 with 1 Axes>"
      ]
     },
     "metadata": {
      "needs_background": "light"
     },
     "output_type": "display_data"
    }
   ],
   "source": [
    "plt.plot(trace[0])\n",
    "plt.show()"
   ]
  },
  {
   "cell_type": "code",
   "execution_count": null,
   "metadata": {},
   "outputs": [],
   "source": [
    "inputLabelVec = np.array(list(np.repeat(0,argh)) + list(np.repeat(1,argh)))# + list(np.repeat(2,argh)))\n",
    "inputLabelVec[0] = 1\n",
    "inputLabelVec[-1] = 0"
   ]
  },
  {
   "cell_type": "code",
   "execution_count": null,
   "metadata": {},
   "outputs": [],
   "source": [
    "from pygraphon.matlab_functions.graphest_fastgreedy import graphest_fastgreedy, fastNormalizedBMLogLik"
   ]
  },
  {
   "cell_type": "code",
   "execution_count": null,
   "metadata": {},
   "outputs": [
    {
     "name": "stdout",
     "output_type": "stream",
     "text": [
      "Initial log-likelihood: -0.4912\n",
      "Initial normalized log-likelihood: -2.3838\n"
     ]
    },
    {
     "name": "stderr",
     "output_type": "stream",
     "text": [
      "LL: -2.2459,  5 global improvements: 100%|██████████| 50/50 [00:28<00:00,  1.78it/s]\n"
     ]
    },
    {
     "data": {
      "image/png": "[encoded data removed]",
      "text/plain": [
       "<Figure size 432x288 with 1 Axes>"
      ]
     },
     "metadata": {
      "needs_background": "light"
     },
     "output_type": "display_data"
    }
   ],
   "source": [
    "labels,k, traces = graphest_fastgreedy(A, argh, inputLabelVec=inputLabelVec, trace=True, maxNumRestarts=50, plots = False)\n",
    "plt.plot(traces[0], label = \"ll\")\n",
    "plt.plot(traces[1], label = \"normalized ll\")\n",
    "plt.legend()\n",
    "plt.show()"
   ]
  },
  {
   "cell_type": "code",
   "execution_count": null,
   "metadata": {},
   "outputs": [
    {
     "data": {
      "text/plain": [
       "array([0, 0, 0, 0, 0, 0, 0, 0, 0, 0, 0, 0, 0, 0, 0, 0, 0, 0, 0, 0, 0, 0,\n",
       "       1, 0, 0, 0, 0, 0, 0, 1, 0, 0, 0, 0, 1, 0, 0, 0, 0, 0, 0, 0, 0, 0,\n",
       "       0, 0, 0, 0, 0, 0, 1, 1, 1, 1, 1, 1, 1, 1, 1, 1, 1, 1, 1, 1, 1, 1,\n",
       "       0, 1, 1, 1, 1, 1, 1, 0, 1, 1, 1, 1, 1, 1, 1, 1, 1, 1, 1, 1, 1, 1,\n",
       "       1, 1, 1, 0, 1, 1, 1, 1, 1, 1, 1, 1])"
      ]
     },
     "execution_count": 373,
     "metadata": {},
     "output_type": "execute_result"
    }
   ],
   "source": [
    "labels"
   ]
  },
  {
   "cell_type": "code",
   "execution_count": null,
   "metadata": {},
   "outputs": [
    {
     "name": "stdout",
     "output_type": "stream",
     "text": [
      "              precision    recall  f1-score   support\n",
      "\n",
      "           0       0.92      0.92      0.92        50\n",
      "           1       0.92      0.92      0.92        50\n",
      "\n",
      "    accuracy                           0.92       100\n",
      "   macro avg       0.92      0.92      0.92       100\n",
      "weighted avg       0.92      0.92      0.92       100\n",
      "\n"
     ]
    }
   ],
   "source": [
    "from sklearn.metrics import classification_report\n",
    "print(classification_report(inputLabelVec, labels))"
   ]
  },
  {
   "cell_type": "code",
   "execution_count": null,
   "metadata": {},
   "outputs": [],
   "source": [
    "import cProfile"
   ]
  },
  {
   "cell_type": "code",
   "execution_count": null,
   "metadata": {},
   "outputs": [
    {
     "name": "stdout",
     "output_type": "stream",
     "text": [
      "Initial log-likelihood: -0.4542\n",
      "Initial normalized log-likelihood: -2.3049\n"
     ]
    },
    {
     "name": "stderr",
     "output_type": "stream",
     "text": [
      "LL: -2.2681,  5 global improvements:   6%|▌         | 30/500 [00:28<07:30,  1.04it/s]"
     ]
    },
    {
     "name": "stdout",
     "output_type": "stream",
     "text": [
      "3 consecutive likelihood improvements less than specified tolerance; quitting now\n",
      "         29514472 function calls (28043077 primitive calls) in 28.796 seconds\n",
      "\n",
      "   Ordered by: standard name\n",
      "\n",
      "   ncalls  tottime  percall  cumtime  percall filename:lineno(function)\n",
      "        5    0.000    0.000    0.000    0.000 <__array_function__ internals>:177(all)\n",
      "        1    0.000    0.000    0.000    0.000 <__array_function__ internals>:177(allclose)\n",
      "        1    0.000    0.000    0.000    0.000 <__array_function__ internals>:177(amax)\n",
      "        1    0.000    0.000    0.000    0.000 <__array_function__ internals>:177(around)\n",
      "        1    0.000    0.000    0.000    0.000 <__array_function__ internals>:177(atleast_2d)\n",
      "      192    0.000    0.000    0.002    0.000 <__array_function__ internals>:177(broadcast_to)\n",
      "   735692    0.275    0.000   10.503    0.000 <__array_function__ internals>:177(clip)\n",
      "   601710    0.173    0.000    0.877    0.000 <__array_function__ internals>:177(copy)\n",
      "       33    0.000    0.000    0.000    0.000 <__array_function__ internals>:177(copyto)\n",
      "        2    0.000    0.000    0.000    0.000 <__array_function__ internals>:177(diag)\n",
      "        1    0.000    0.000    0.000    0.000 <__array_function__ internals>:177(diagonal)\n",
      "        2    0.000    0.000    0.000    0.000 <__array_function__ internals>:177(empty_like)\n",
      "        1    0.000    0.000    0.000    0.000 <__array_function__ internals>:177(imag)\n",
      "        1    0.000    0.000    0.000    0.000 <__array_function__ internals>:177(isclose)\n",
      "  1471388    0.404    0.000    1.655    0.000 <__array_function__ internals>:177(ndim)\n",
      "        2    0.000    0.000    0.000    0.000 <__array_function__ internals>:177(ones_like)\n",
      "        3    0.000    0.000    0.000    0.000 <__array_function__ internals>:177(outer)\n",
      "        1    0.000    0.000    0.000    0.000 <__array_function__ internals>:177(real)\n",
      "        1    0.000    0.000    0.000    0.000 <__array_function__ internals>:177(result_type)\n",
      "        1    0.000    0.000    0.000    0.000 <__array_function__ internals>:177(round_)\n",
      "   735932    0.269    0.000    4.176    0.000 <__array_function__ internals>:177(sum)\n",
      "       96    0.000    0.000    0.000    0.000 <__array_function__ internals>:177(where)\n",
      "        1    0.000    0.000    0.000    0.000 <frozen importlib._bootstrap>:389(parent)\n",
      "        1    0.000    0.000   28.796   28.796 <string>:1(<module>)\n",
      "        1    0.000    0.000    0.000    0.000 _config.py:16(_get_threadlocal_config)\n",
      "        1    0.000    0.000    0.000    0.000 _config.py:24(get_config)\n",
      "  1471384    0.334    0.000    0.411    0.000 _methods.py:101(_clip_dep_is_byte_swapped)\n",
      "   735692    2.329    0.000    2.329    0.000 _methods.py:106(_clip_dep_invoke_with_casting)\n",
      "   735692    0.861    0.000    8.312    0.000 _methods.py:125(_clip)\n",
      "   245220    0.053    0.000    0.544    0.000 _methods.py:46(_sum)\n",
      "  1471384    3.057    0.000    4.712    0.000 _methods.py:91(_clip_dep_is_scalar_nan)\n",
      "        1    0.000    0.000    0.000    0.000 _monitor.py:94(report)\n",
      "        1    0.000    0.000    0.000    0.000 _parallel_backends.py:185(in_main_thread)\n",
      "        1    0.000    0.000    0.000    0.000 _parallel_backends.py:280(__init__)\n",
      "        1    0.000    0.000    0.000    0.000 _parallel_backends.py:34(__init__)\n",
      "        1    0.000    0.000    0.000    0.000 _parallel_backends.py:501(effective_n_jobs)\n",
      "        1    0.000    0.000    0.000    0.000 _threadsafety.py:30(__enter__)\n",
      "        1    0.000    0.000    0.000    0.000 _threadsafety.py:37(__exit__)\n",
      "        2    0.000    0.000    0.000    0.000 _ufunc_config.py:131(geterr)\n",
      "        2    0.000    0.000    0.000    0.000 _ufunc_config.py:32(seterr)\n",
      "        1    0.000    0.000    0.000    0.000 _ufunc_config.py:425(__init__)\n",
      "        1    0.000    0.000    0.000    0.000 _ufunc_config.py:429(__enter__)\n",
      "        1    0.000    0.000    0.000    0.000 _ufunc_config.py:434(__exit__)\n",
      "        2    0.000    0.000    0.000    0.000 _util.py:117(_aligned_zeros)\n",
      "        1    0.000    0.000    0.000    0.000 _weakrefset.py:106(remove)\n",
      "        2    0.000    0.000    0.000    0.000 _weakrefset.py:16(__init__)\n",
      "        2    0.000    0.000    0.000    0.000 _weakrefset.py:20(__enter__)\n",
      "        2    0.000    0.000    0.000    0.000 _weakrefset.py:26(__exit__)\n",
      "        2    0.000    0.000    0.000    0.000 _weakrefset.py:52(_commit_removals)\n",
      "        3    0.000    0.000    0.000    0.000 _weakrefset.py:58(__iter__)\n",
      "        1    0.000    0.000    0.000    0.000 _weakrefset.py:81(add)\n",
      "        1    0.000    0.000    0.000    0.000 abc.py:100(__subclasscheck__)\n",
      "        1    0.000    0.000    0.000    0.000 abc.py:96(__instancecheck__)\n",
      "        1    0.000    0.000    0.049    0.049 arpack.py:1097(eigs)\n",
      "        1    0.000    0.000    0.000    0.000 arpack.py:301(choose_ncv)\n",
      "        1    0.000    0.000    0.000    0.000 arpack.py:310(__init__)\n",
      "        1    0.000    0.000    0.000    0.000 arpack.py:598(__init__)\n",
      "       39    0.008    0.000    0.048    0.001 arpack.py:720(iterate)\n",
      "        1    0.000    0.000    0.000    0.000 arpack.py:760(extract)\n",
      "        1    0.000    0.000    0.000    0.000 arpack.py:898(_aslinearoperator_with_dtype)\n",
      "        7    0.000    0.000    0.000    0.000 base.py:1205(isspmatrix)\n",
      "        1    0.000    0.000    0.001    0.001 distance.py:2616(cdist)\n",
      "        1    0.000    0.000    0.000    0.000 extmath.py:869(_safe_accumulator_op)\n",
      "        1    0.000    0.000    0.000    0.000 fromnumeric.py:1548(_diagonal_dispatcher)\n",
      "        1    0.000    0.000    0.000    0.000 fromnumeric.py:1552(diagonal)\n",
      "   735692    0.077    0.000    0.077    0.000 fromnumeric.py:2079(_clip_dispatcher)\n",
      "   735692    0.398    0.000    9.245    0.000 fromnumeric.py:2083(clip)\n",
      "   735932    0.083    0.000    0.083    0.000 fromnumeric.py:2155(_sum_dispatcher)\n",
      "   735932    0.485    0.000    3.432    0.000 fromnumeric.py:2160(sum)\n",
      "        5    0.000    0.000    0.000    0.000 fromnumeric.py:2399(_all_dispatcher)\n",
      "        5    0.000    0.000    0.000    0.000 fromnumeric.py:2404(all)\n",
      "        1    0.000    0.000    0.000    0.000 fromnumeric.py:2670(_amax_dispatcher)\n",
      "        1    0.000    0.000    0.000    0.000 fromnumeric.py:2675(amax)\n",
      "  1471388    0.127    0.000    0.127    0.000 fromnumeric.py:3160(_ndim_dispatcher)\n",
      "  1471388    0.178    0.000    0.178    0.000 fromnumeric.py:3164(ndim)\n",
      "        2    0.000    0.000    0.000    0.000 fromnumeric.py:3253(_around_dispatcher)\n",
      "        1    0.000    0.000    0.000    0.000 fromnumeric.py:3257(around)\n",
      "        1    0.000    0.000    0.000    0.000 fromnumeric.py:3764(round_)\n",
      "        1    0.000    0.000    0.000    0.000 fromnumeric.py:38(_wrapit)\n",
      "   735693    0.213    0.000    8.847    0.000 fromnumeric.py:51(_wrapfunc)\n",
      "   735938    0.683    0.000    2.843    0.000 fromnumeric.py:69(_wrapreduction)\n",
      "   735938    0.218    0.000    0.218    0.000 fromnumeric.py:70(<dictcomp>)\n",
      "      192    0.000    0.000    0.000    0.000 function_base.py:346(iterable)\n",
      "   601710    0.048    0.000    0.048    0.000 function_base.py:842(_copy_dispatcher)\n",
      "   601710    0.089    0.000    0.424    0.000 function_base.py:846(copy)\n",
      "      192    0.000    0.000    0.000    0.000 getlimits.py:658(min)\n",
      "      192    0.000    0.000    0.000    0.000 getlimits.py:671(max)\n",
      "        1    6.350    6.350   28.746   28.746 graphest_fastgreedy.py:13(graphest_fastgreedy)\n",
      "        1    0.000    0.000    0.000    0.000 graphest_fastgreedy.py:320(set_num_greedy_steps)\n",
      "   245220    5.666    0.000    9.082    0.000 graphest_fastgreedy.py:340(delta_neg)\n",
      "       32    0.004    0.000    0.006    0.000 graphest_fastgreedy.py:360(getSampleCounts)\n",
      "       32    0.000    0.000    0.002    0.000 graphest_fastgreedy.py:378(fastNormalizedBMLogLik)\n",
      "        1    0.000    0.000    0.000    0.000 interface.py:142(__new__)\n",
      "        1    0.000    0.000    0.000    0.000 interface.py:157(__init__)\n",
      "       38    0.000    0.000    0.039    0.001 interface.py:189(_matvec)\n",
      "       38    0.000    0.000    0.040    0.001 interface.py:201(matvec)\n",
      "       38    0.000    0.000    0.039    0.001 interface.py:303(matmat)\n",
      "        1    0.000    0.000    0.000    0.000 interface.py:724(__init__)\n",
      "       38    0.000    0.000    0.038    0.001 interface.py:730(_matmat)\n",
      "        1    0.000    0.000    0.000    0.000 interface.py:773(aslinearoperator)\n",
      "      171    0.000    0.000    0.006    0.000 iostream.py:206(schedule)\n",
      "        1    0.000    0.000    0.000    0.000 iostream.py:301(fileno)\n",
      "       47    0.000    0.000    0.000    0.000 iostream.py:418(_is_master_process)\n",
      "       47    0.000    0.000    0.001    0.000 iostream.py:437(_schedule_flush)\n",
      "       41    0.000    0.000    0.015    0.000 iostream.py:451(flush)\n",
      "       47    0.000    0.000    0.005    0.000 iostream.py:500(write)\n",
      "      171    0.000    0.000    0.000    0.000 iostream.py:96(_event_pipe)\n",
      "       33    0.000    0.000    0.000    0.000 multiarray.py:1071(copyto)\n",
      "       96    0.000    0.000    0.000    0.000 multiarray.py:341(where)\n",
      "        1    0.000    0.000    0.000    0.000 multiarray.py:664(result_type)\n",
      "        2    0.000    0.000    0.000    0.000 multiarray.py:80(empty_like)\n",
      "        1    0.000    0.000   28.796   28.796 nethist.py:125(nethist)\n",
      "        1    0.000    0.000    0.050    0.050 nethist.py:91(first_guess_blocks)\n",
      "       31    0.000    0.000    0.001    0.000 numeric.py:149(ones)\n",
      "       96    0.000    0.000    0.001    0.000 numeric.py:1680(indices)\n",
      "        2    0.000    0.000    0.000    0.000 numeric.py:214(_ones_like_dispatcher)\n",
      "        1    0.000    0.000    0.000    0.000 numeric.py:2176(_allclose_dispatcher)\n",
      "        2    0.000    0.000    0.000    0.000 numeric.py:218(ones_like)\n",
      "        1    0.000    0.000    0.000    0.000 numeric.py:2180(allclose)\n",
      "        1    0.000    0.000    0.000    0.000 numeric.py:2255(_isclose_dispatcher)\n",
      "        1    0.000    0.000    0.000    0.000 numeric.py:2259(isclose)\n",
      "        1    0.000    0.000    0.000    0.000 numeric.py:2340(within_tol)\n",
      "        3    0.000    0.000    0.000    0.000 numeric.py:847(_outer_dispatcher)\n",
      "        3    0.000    0.000    0.000    0.000 numeric.py:851(outer)\n",
      "        2    0.000    0.000    0.000    0.000 numerictypes.py:282(issubclass_)\n",
      "        1    0.000    0.000    0.000    0.000 numerictypes.py:356(issubdtype)\n",
      "        1    0.000    0.000    0.000    0.000 os.py:670(__getitem__)\n",
      "        1    0.000    0.000    0.000    0.000 os.py:748(encode)\n",
      "        1    0.000    0.000    0.001    0.001 pairwise.py:1421(_parallel_pairwise)\n",
      "        1    0.000    0.000    0.001    0.001 pairwise.py:1731(pairwise_distances)\n",
      "        2    0.000    0.000    0.000    0.000 pairwise.py:39(_return_float_dtype)\n",
      "        1    0.000    0.000    0.000    0.000 pairwise.py:63(check_pairwise_arrays)\n",
      "        1    0.000    0.000    0.001    0.001 pairwise.py:791(manhattan_distances)\n",
      "        1    0.000    0.000    0.000    0.000 parallel.py:385(effective_n_jobs)\n",
      "        1    0.000    0.000    0.000    0.000 parallel.py:76(get_active_backend)\n",
      "        1    0.000    0.000    0.000    0.000 process.py:198(daemon)\n",
      "        1    0.000    0.000    0.000    0.000 process.py:37(current_process)\n",
      "        1    0.000    0.000    0.000    0.000 shape_base.py:77(_atleast_2d_dispatcher)\n",
      "        1    0.000    0.000    0.000    0.000 shape_base.py:81(atleast_2d)\n",
      "      171    0.005    0.000    0.005    0.000 socket.py:480(send)\n",
      "        2    0.000    0.000    0.000    0.000 sputils.py:198(isintlike)\n",
      "        1    0.000    0.000    0.000    0.000 sputils.py:220(isshape)\n",
      "       42    0.000    0.000    0.000    0.000 std.py:104(acquire)\n",
      "       42    0.000    0.000    0.000    0.000 std.py:108(release)\n",
      "        4    0.000    0.000    0.000    0.000 std.py:112(__enter__)\n",
      "        1    0.000    0.000    0.000    0.000 std.py:1146(__del__)\n",
      "       39    0.000    0.000    0.003    0.000 std.py:1149(__str__)\n",
      "        4    0.000    0.000    0.000    0.000 std.py:115(__exit__)\n",
      "        2    0.000    0.000    0.000    0.000 std.py:1152(_comparable)\n",
      "        2    0.000    0.000    0.000    0.000 std.py:1156(__hash__)\n",
      "       32    0.000    0.000    0.017    0.001 std.py:1159(__iter__)\n",
      "       30    0.000    0.000    0.016    0.001 std.py:1197(update)\n",
      "        3    0.000    0.000    0.000    0.000 std.py:1264(close)\n",
      "        2    0.000    0.000    0.000    0.000 std.py:1285(fp_write)\n",
      "        1    0.000    0.000    0.000    0.000 std.py:1300(<lambda>)\n",
      "       38    0.000    0.000    0.023    0.001 std.py:1324(refresh)\n",
      "        7    0.000    0.000    0.004    0.001 std.py:1381(set_description)\n",
      "       39    0.000    0.000    0.000    0.000 std.py:1445(format_dict)\n",
      "       39    0.000    0.000    0.022    0.001 std.py:1463(display)\n",
      "       39    0.000    0.000    0.000    0.000 std.py:155(__init__)\n",
      "       39    0.000    0.000    0.000    0.000 std.py:165(colour)\n",
      "       39    0.000    0.000    0.000    0.000 std.py:169(colour)\n",
      "       39    0.000    0.000    0.000    0.000 std.py:188(__format__)\n",
      "        3    0.000    0.000    0.000    0.000 std.py:228(__init__)\n",
      "      200    0.000    0.000    0.000    0.000 std.py:233(__call__)\n",
      "       76    0.000    0.000    0.000    0.000 std.py:288(format_interval)\n",
      "        1    0.000    0.000    0.002    0.002 std.py:329(status_printer)\n",
      "       39    0.000    0.000    0.017    0.000 std.py:342(fp_write)\n",
      "       39    0.000    0.000    0.019    0.000 std.py:348(print_status)\n",
      "       39    0.001    0.000    0.003    0.000 std.py:355(format_meter)\n",
      "        1    0.000    0.000    0.000    0.000 std.py:560(__new__)\n",
      "        1    0.000    0.000    0.000    0.000 std.py:576(_get_free_pos)\n",
      "        1    0.000    0.000    0.000    0.000 std.py:579(<setcomp>)\n",
      "        1    0.000    0.000    0.000    0.000 std.py:583(_decr_instances)\n",
      "        1    0.000    0.000    0.000    0.000 std.py:657(get_lock)\n",
      "        1    0.000    0.000    0.005    0.005 std.py:846(__init__)\n",
      "      192    0.000    0.000    0.000    0.000 stride_tricks.py:25(_maybe_view_as_subclass)\n",
      "      192    0.001    0.000    0.001    0.000 stride_tricks.py:339(_broadcast_to)\n",
      "      576    0.000    0.000    0.000    0.000 stride_tricks.py:344(<genexpr>)\n",
      "      192    0.000    0.000    0.000    0.000 stride_tricks.py:362(_broadcast_to_dispatcher)\n",
      "      192    0.000    0.000    0.001    0.000 stride_tricks.py:366(broadcast_to)\n",
      "      212    0.000    0.000    0.000    0.000 threading.py:1017(_wait_for_tstate_lock)\n",
      "      212    0.000    0.000    0.000    0.000 threading.py:1071(is_alive)\n",
      "        1    0.000    0.000    0.000    0.000 threading.py:1306(current_thread)\n",
      "       41    0.000    0.000    0.000    0.000 threading.py:222(__init__)\n",
      "       41    0.000    0.000    0.000    0.000 threading.py:246(__enter__)\n",
      "       41    0.000    0.000    0.000    0.000 threading.py:249(__exit__)\n",
      "       41    0.000    0.000    0.000    0.000 threading.py:255(_release_save)\n",
      "       41    0.000    0.000    0.000    0.000 threading.py:258(_acquire_restore)\n",
      "       41    0.000    0.000    0.000    0.000 threading.py:261(_is_owned)\n",
      "       41    0.000    0.000    0.013    0.000 threading.py:270(wait)\n",
      "       41    0.000    0.000    0.000    0.000 threading.py:505(__init__)\n",
      "      213    0.000    0.000    0.000    0.000 threading.py:513(is_set)\n",
      "       41    0.000    0.000    0.013    0.000 threading.py:540(wait)\n",
      "       96    0.000    0.000    0.004    0.000 twodim_base.py:1011(triu_indices)\n",
      "      288    0.000    0.000    0.002    0.000 twodim_base.py:1093(<genexpr>)\n",
      "        2    0.000    0.000    0.000    0.000 twodim_base.py:230(_diag_dispatcher)\n",
      "        2    0.000    0.000    0.000    0.000 twodim_base.py:234(diag)\n",
      "      192    0.000    0.000    0.000    0.000 twodim_base.py:32(_min_int)\n",
      "       96    0.000    0.000    0.001    0.000 twodim_base.py:370(tri)\n",
      "        1    0.000    0.000    0.000    0.000 type_check.py:117(_real_dispatcher)\n",
      "        1    0.000    0.000    0.000    0.000 type_check.py:121(real)\n",
      "        1    0.000    0.000    0.000    0.000 type_check.py:163(_imag_dispatcher)\n",
      "        1    0.000    0.000    0.000    0.000 type_check.py:167(imag)\n",
      "        3    0.000    0.000    0.000    0.000 utils.py:101(wrapper_setattr)\n",
      "        1    0.000    0.000    0.000    0.000 utils.py:105(__init__)\n",
      "        2    0.000    0.000    0.000    0.000 utils.py:136(disable_on_exception)\n",
      "       80    0.000    0.000    0.017    0.000 utils.py:143(inner)\n",
      "        1    0.000    0.000    0.000    0.000 utils.py:162(__init__)\n",
      "        2    0.000    0.000    0.000    0.000 utils.py:171(__eq__)\n",
      "        1    0.000    0.000    0.000    0.000 utils.py:201(_is_utf)\n",
      "        1    0.000    0.000    0.000    0.000 utils.py:215(_supports_unicode)\n",
      "       78    0.000    0.000    0.000    0.000 utils.py:222(_is_ascii)\n",
      "        1    0.000    0.000    0.000    0.000 utils.py:231(_screen_shape_wrapper)\n",
      "        1    0.000    0.000    0.000    0.000 utils.py:282(_screen_shape_linux)\n",
      "        1    0.000    0.000    0.000    0.000 utils.py:296(<listcomp>)\n",
      "       39    0.000    0.000    0.001    0.000 utils.py:329(_text_width)\n",
      "     3289    0.001    0.000    0.001    0.000 utils.py:330(<genexpr>)\n",
      "       39    0.000    0.000    0.001    0.000 utils.py:333(disp_len)\n",
      "       39    0.000    0.000    0.000    0.000 utils.py:57(__init__)\n",
      "       39    0.000    0.000    0.000    0.000 utils.py:61(__format__)\n",
      "        1    0.000    0.000    0.000    0.000 utils.py:74(__eq__)\n",
      "        2    0.000    0.000    0.000    0.000 utils.py:88(__getattr__)\n",
      "        1    0.000    0.000    0.000    0.000 utils_graph.py:31(check_simple_adjacency_matrix)\n",
      "        1    0.000    0.000    0.000    0.000 utils_matrix.py:13(check_symmetric)\n",
      "       96    0.000    0.000    0.005    0.000 utils_matrix.py:43(upper_triangle_values)\n",
      "   245252    0.484    0.000   10.987    0.000 utils_matrix.py:55(bound_away_from_one_and_zero)\n",
      "        1    0.000    0.000    0.000    0.000 validation.py:254(_num_samples)\n",
      "        1    0.000    0.000    0.000    0.000 validation.py:484(_ensure_no_complex_data)\n",
      "        1    0.000    0.000    0.000    0.000 validation.py:494(check_array)\n",
      "        1    0.000    0.000    0.000    0.000 validation.py:90(_assert_all_finite)\n",
      "        1    0.000    0.000    0.000    0.000 warnings.py:165(simplefilter)\n",
      "        1    0.000    0.000    0.000    0.000 warnings.py:181(_add_filter)\n",
      "        1    0.000    0.000    0.000    0.000 warnings.py:437(__init__)\n",
      "        1    0.000    0.000    0.000    0.000 warnings.py:458(__enter__)\n",
      "        1    0.000    0.000    0.000    0.000 warnings.py:477(__exit__)\n",
      "        2    0.000    0.000    0.000    0.000 {built-in method __new__ of type object at 0x102b3e808}\n",
      "        1    0.000    0.000    0.000    0.000 {built-in method _abc._abc_instancecheck}\n",
      "        1    0.000    0.000    0.000    0.000 {built-in method _abc._abc_subclasscheck}\n",
      "        2    0.000    0.000    0.000    0.000 {built-in method _functools.reduce}\n",
      "       41    0.000    0.000    0.000    0.000 {built-in method _imp.lock_held}\n",
      "        2    0.000    0.000    0.000    0.000 {built-in method _operator.index}\n",
      "       82    0.000    0.000    0.000    0.000 {built-in method _thread.allocate_lock}\n",
      "        1    0.000    0.000    0.000    0.000 {built-in method _thread.get_ident}\n",
      "        3    0.000    0.000    0.000    0.000 {built-in method _warnings._filters_mutated}\n",
      "        2    0.000    0.000    0.000    0.000 {built-in method _weakref.proxy}\n",
      "       46    0.000    0.000    0.000    0.000 {built-in method builtins.abs}\n",
      "      192    0.000    0.000    0.000    0.000 {built-in method builtins.any}\n",
      "        1    0.000    0.000    0.000    0.000 {built-in method builtins.callable}\n",
      "      191    0.000    0.000    0.000    0.000 {built-in method builtins.divmod}\n",
      "        1    0.000    0.000   28.796   28.796 {built-in method builtins.exec}\n",
      "   980927    0.102    0.000    0.102    0.000 {built-in method builtins.getattr}\n",
      "       94    0.000    0.000    0.000    0.000 {built-in method builtins.hasattr}\n",
      "        2    0.000    0.000    0.000    0.000 {built-in method builtins.id}\n",
      "  2207540    0.180    0.000    0.180    0.000 {built-in method builtins.isinstance}\n",
      "        3    0.000    0.000    0.000    0.000 {built-in method builtins.issubclass}\n",
      "      192    0.000    0.000    0.000    0.000 {built-in method builtins.iter}\n",
      "      194    0.000    0.000    0.000    0.000 {built-in method builtins.len}\n",
      "       41    0.000    0.000    0.000    0.000 {built-in method builtins.max}\n",
      "        6    0.000    0.000    0.000    0.000 {built-in method builtins.min}\n",
      "      819    0.000    0.000    0.000    0.000 {built-in method builtins.ord}\n",
      "        3    0.000    0.000    0.000    0.000 {built-in method builtins.print}\n",
      "       39    0.000    0.000    0.001    0.000 {built-in method builtins.sum}\n",
      "        1    0.000    0.000    0.000    0.000 {built-in method fcntl.ioctl}\n",
      "       37    0.000    0.000    0.000    0.000 {built-in method now}\n",
      "      388    0.000    0.000    0.000    0.000 {built-in method numpy.arange}\n",
      "  2318473    0.974    0.000    0.974    0.000 {built-in method numpy.array}\n",
      "       84    0.000    0.000    0.000    0.000 {built-in method numpy.asanyarray}\n",
      "       53    0.000    0.000    0.000    0.000 {built-in method numpy.asarray}\n",
      "3545067/2073672    2.476    0.000   14.635    0.000 {built-in method numpy.core._multiarray_umath.implement_array_function}\n",
      "       33    0.000    0.000    0.000    0.000 {built-in method numpy.empty}\n",
      "        4    0.000    0.000    0.000    0.000 {built-in method numpy.geterrobj}\n",
      "        2    0.000    0.000    0.000    0.000 {built-in method numpy.seterrobj}\n",
      "       79    0.000    0.000    0.000    0.000 {built-in method numpy.zeros}\n",
      "       47    0.000    0.000    0.000    0.000 {built-in method posix.getpid}\n",
      "        1    0.001    0.001    0.001    0.001 {built-in method scipy.spatial._distance_pybind.cdist_cityblock}\n",
      "      129    0.000    0.000    0.000    0.000 {built-in method time.time}\n",
      "     3250    0.000    0.000    0.000    0.000 {built-in method unicodedata.east_asian_width}\n",
      "        2    0.000    0.000    0.000    0.000 {built-in method utcfromtimestamp}\n",
      "       41    0.000    0.000    0.000    0.000 {method '__enter__' of '_thread.lock' objects}\n",
      "       41    0.000    0.000    0.000    0.000 {method '__exit__' of '_thread.lock' objects}\n",
      "       42    0.000    0.000    0.000    0.000 {method 'acquire' of '_multiprocessing.SemLock' objects}\n",
      "       43    0.000    0.000    0.000    0.000 {method 'acquire' of '_thread.RLock' objects}\n",
      "      376    0.013    0.000    0.013    0.000 {method 'acquire' of '_thread.lock' objects}\n",
      "        3    0.000    0.000    0.000    0.000 {method 'add' of 'set' objects}\n",
      "      212    0.000    0.000    0.000    0.000 {method 'append' of 'collections.deque' objects}\n",
      "       63    0.000    0.000    0.000    0.000 {method 'append' of 'list' objects}\n",
      "        1    0.000    0.000    0.000    0.000 {method 'argsort' of 'numpy.ndarray' objects}\n",
      "      225    0.002    0.000    0.002    0.000 {method 'astype' of 'numpy.ndarray' objects}\n",
      "   735692    0.244    0.000    8.556    0.000 {method 'clip' of 'numpy.ndarray' objects}\n",
      "        1    0.000    0.000    0.000    0.000 {method 'copy' of 'dict' objects}\n",
      "        1    0.000    0.000    0.000    0.000 {method 'diagonal' of 'numpy.ndarray' objects}\n",
      "        1    0.000    0.000    0.000    0.000 {method 'difference' of 'set' objects}\n",
      "        1    0.000    0.000    0.000    0.000 {method 'disable' of '_lsprof.Profiler' objects}\n",
      "       38    0.038    0.001    0.038    0.001 {method 'dot' of 'numpy.ndarray' objects}\n",
      "        2    0.000    0.000    0.000    0.000 {method 'encode' of 'str' objects}\n",
      "        2    0.000    0.000    0.000    0.000 {method 'fill' of 'numpy.ndarray' objects}\n",
      "      306    0.001    0.000    0.001    0.000 {method 'format' of 'str' objects}\n",
      "        2    0.000    0.000    0.000    0.000 {method 'get' of 'dict' objects}\n",
      "        1    0.000    0.000    0.000    0.000 {method 'insert' of 'list' objects}\n",
      "   735938    0.050    0.000    0.050    0.000 {method 'items' of 'dict' objects}\n",
      "        1    0.000    0.000    0.000    0.000 {method 'lower' of 'str' objects}\n",
      "       96    0.000    0.000    0.000    0.000 {method 'outer' of 'numpy.ufunc' objects}\n",
      "       38    0.000    0.000    0.000    0.000 {method 'ravel' of 'numpy.ndarray' objects}\n",
      "   735938    1.627    0.000    1.627    0.000 {method 'reduce' of 'numpy.ufunc' objects}\n",
      "       42    0.000    0.000    0.000    0.000 {method 'release' of '_multiprocessing.SemLock' objects}\n",
      "       43    0.000    0.000    0.000    0.000 {method 'release' of '_thread.RLock' objects}\n",
      "       41    0.000    0.000    0.000    0.000 {method 'release' of '_thread.lock' objects}\n",
      "        1    0.000    0.000    0.000    0.000 {method 'remove' of 'list' objects}\n",
      "        3    0.000    0.000    0.000    0.000 {method 'remove' of 'set' objects}\n",
      "      268    0.001    0.000    0.001    0.000 {method 'reshape' of 'numpy.ndarray' objects}\n",
      "        1    0.000    0.000    0.000    0.000 {method 'round' of 'numpy.ndarray' objects}\n",
      "        1    0.000    0.000    0.000    0.000 {method 'rpartition' of 'str' objects}\n",
      "       39    0.000    0.000    0.000    0.000 {method 'sub' of 're.Pattern' objects}\n",
      "   245220    0.188    0.000    0.732    0.000 {method 'sum' of 'numpy.generic' objects}\n",
      "      124    0.012    0.000    0.012    0.000 {method 'uniform' of 'numpy.random.mtrand.RandomState' objects}\n",
      "       39    0.000    0.000    0.000    0.000 {method 'update' of 'dict' objects}\n",
      "        1    0.000    0.000    0.000    0.000 {method 'upper' of 'str' objects}\n",
      "\n",
      "\n"
     ]
    },
    {
     "name": "stderr",
     "output_type": "stream",
     "text": [
      "\n"
     ]
    }
   ],
   "source": [
    "cProfile.run('nethist(A, argh, verbose= True, trace= True)')"
   ]
  }
 ],
 "metadata": {
  "interpreter": {
   "hash": "dcb222b0e3c0011935c8e1dec940deade2e296babd9e0b8fd5d2e8a39c20158c"
  },
  "kernelspec": {
   "display_name": "Python 3.8.5 64-bit ('env': venv)",
   "language": "python",
   "name": "python3"
  },
  "language_info": {
   "codemirror_mode": {
    "name": "ipython",
    "version": 3
   },
   "file_extension": ".py",
   "mimetype": "text/x-python",
   "name": "python",
   "nbconvert_exporter": "python",
   "pygments_lexer": "ipython3",
   "version": "3.8.5"
  },
  "orig_nbformat": 4
 },
 "nbformat": 4,
 "nbformat_minor": 2
}
